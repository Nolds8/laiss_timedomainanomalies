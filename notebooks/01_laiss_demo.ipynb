{
 "cells": [
  {
   "cell_type": "markdown",
   "id": "8482b89b-648b-4efb-b00c-0081ef8ef0d3",
   "metadata": {},
   "source": [
    "# Light curve Anomaly Identification & Similarity Search (LAISS) Tutorial\n",
    "### written by Patrick Aleo and Alex Gagliano (gaglian2@mit.edu)"
   ]
  },
  {
   "cell_type": "markdown",
   "id": "4fb3eebe-1220-4d32-b723-79c67505478c",
   "metadata": {},
   "source": [
    "[![Open In Colab](https://colab.research.google.com/assets/colab-badge.svg)](https://colab.research.google.com/github/alexandergagliano/laiss_timedomainanomalies/blob/main/notebooks/01_laiss_demo.ipynb)"
   ]
  },
  {
   "cell_type": "markdown",
   "id": "fa0dae4a-9b8c-4701-8755-b4107aac2356",
   "metadata": {},
   "source": [
    "LAISS is a tool to consolidate the photometric features of supernovae and the galaxies that host them, and use these properties to find similar supernovae and identify anomalies. \n",
    "\n",
    "There are many definitions for what constitutes an anomaly. In this hack, our goal is to pull out supernovae that exhibit rare photometric behavior (such as phases of re-brightening) and unusual contextual (a supernova in a galaxy we don't expect, such as the explosion of a young star in a galaxy full of older stars).\n",
    "\n",
    "The similarity search takes advantage of [Approximate Nearest Neighbors Oh Yeah (ANNOY)](https://github.com/spotify/annoy), the approximate nearest neighbors algorithm developed by Spotify that allows you to come up with a relevant song to listen to before your current one ends. The anomaly detection classifier is a random forest trained on manually-vetted anomalous and \"typical\" supernovae. The design and validation of the LAISS framework is explained in detail in [Aleo et al., 24](https://arxiv.org/html/2404.01235v1). "
   ]
  },
  {
   "cell_type": "markdown",
   "id": "04252883-a5e5-4870-88bc-c102c4d10ecc",
   "metadata": {},
   "source": [
    "Note that this code assumes that the supernova photometry passed in is $g$ and $R$-band photometry from the Zwicky Transient Facility! Accomodating other survey data will likely require some re-training."
   ]
  },
  {
   "cell_type": "markdown",
   "id": "d7bd4b5b-364a-4272-9eee-b70a0fce1be8",
   "metadata": {},
   "source": [
    "We've moved the bulk of the code into two associated files (`helper_functions.py` and `laiss_functions.py` for simplicity). Let's start by installing and loading the relevant packages:"
   ]
  },
  {
   "cell_type": "code",
   "execution_count": null,
   "id": "3c6928f2-097b-4f7e-bd8c-b721f1ef5621",
   "metadata": {},
   "outputs": [],
   "source": [
    "#if running in a linux environment (including colab), you'll need the following command for the antares client to install:\n",
    "!sudo apt-get install librdkafka-dev -y\n",
    "\n",
    "#another command in colab to get the associated code from the repo\n",
    "!git clone https://github.com/alexandergagliano/laiss_timedomainanomalies.git\n",
    "%cd laiss_timedomainanomalies/notebooks"
   ]
  },
  {
   "cell_type": "code",
   "execution_count": 3,
   "id": "ac22487d-a27d-40e6-a049-ee1cb319507e",
   "metadata": {},
   "outputs": [],
   "source": [
    "!pip install numpy pandas pillow astro_ghost timeout_decorator astropy gdown astropy confluent-kafka antares_client matplotlib light_curve annoy scikit-learn"
   ]
  },
  {
   "cell_type": "code",
   "execution_count": 11,
   "id": "b6d2320b",
   "metadata": {},
   "outputs": [],
   "source": [
    "import os\n",
    "\n",
    "#a silly hack to switch the working directory to the one where this file is located\n",
    "working_dir = os.path.abspath(\"\")\n",
    "\n",
    "import time\n",
    "import datetime\n",
    "import math\n",
    "import numpy as np\n",
    "import pandas as pd\n",
    "import sys \n",
    "import os \n",
    "import subprocess\n",
    "\n",
    "os.chdir(working_dir)\n",
    "sys.path.append('../code/')\n",
    "\n",
    "from helper_functions import *\n",
    "from laiss_functions import *\n",
    "\n",
    "import requests\n",
    "from requests.auth import HTTPBasicAuth\n",
    "\n",
    "import warnings\n",
    "warnings.filterwarnings(\"ignore\")"
   ]
  },
  {
   "cell_type": "markdown",
   "id": "1971b75d-272f-4314-9275-3259e57c943a",
   "metadata": {},
   "source": [
    "Let's also download and unpack the data we need for this tutorial: "
   ]
  },
  {
   "cell_type": "code",
   "execution_count": 4,
   "id": "b179b818-51d6-4ce1-9680-000eb74f03c4",
   "metadata": {},
   "outputs": [
    {
     "name": "stdout",
     "output_type": "stream",
     "text": [
      "Downloading...\n",
      "From: https://drive.google.com/uc?id=131frC1TmAUenZewuHuY2wuOpXLyUji0m\n",
      "To: /Users/alexgagliano/Documents/Research/LAISS/laiss_package/data.zip\n",
      "100%|████████████████████████████████████████| 225M/225M [00:03<00:00, 59.4MB/s]\n",
      "Archive:  ../data.zip\n",
      "  inflating: ../data/lc_features.txt  \n",
      "  inflating: ../data/dataset_bank_orig_5472objs.csv.gz  \n",
      "  inflating: ../data/loci_df_271688objects_cut_stars_and_gal_plane.csv  \n",
      "  inflating: ../data/dataset_bank_orig_w_hosts_ra_dec_5472objs.csv.gz  \n",
      "  inflating: ../data/host_features.txt  \n"
     ]
    }
   ],
   "source": [
    "!gdown -O ../ 131frC1TmAUenZewuHuY2wuOpXLyUji0m\n",
    "!unzip -o ../data.zip -d ../"
   ]
  },
  {
   "cell_type": "markdown",
   "id": "f962edb6-1cff-4439-83c9-32e2b9c4e93f",
   "metadata": {},
   "source": [
    "We can choose the features of both the host galaxy and the supernova light curve to use in our matching algorithm. In this case, we've taken the same features as the original code, and stored them in the files `host_features.txt` and `lc_features.txt`."
   ]
  },
  {
   "cell_type": "code",
   "execution_count": 26,
   "id": "15d9c1b1",
   "metadata": {},
   "outputs": [],
   "source": [
    "with open(\"../data/host_features.txt\") as host_f:\n",
    "    host_features = [line.strip() for line in host_f.readlines()]\n",
    "\n",
    "\n",
    "with open(\"../data/lc_features.txt\") as lc_f:\n",
    "    lc_features = [line.strip() for line in lc_f.readlines()]\n",
    "\n",
    "lc_and_host_features = host_features + lc_features"
   ]
  },
  {
   "cell_type": "markdown",
   "id": "b0d981d3-85df-4964-8023-32766006bc4e",
   "metadata": {},
   "source": [
    "Next, we can choose the hyperparameters for our anomaly detection classifier. We can choose `n_estimators`, the number of trees in our model; `max_depth`, the largest a decision tree can grow in the forest; `random_state`, set to a fixed value for reproducibility; and `max_features`, the total number of features to consider at each split in the decision tree."
   ]
  },
  {
   "cell_type": "code",
   "execution_count": 15,
   "id": "f421ebdf",
   "metadata": {},
   "outputs": [],
   "source": [
    "# Hyperparameters for best AD model\n",
    "n_estimators = 100\n",
    "max_depth = 35\n",
    "random_state = 11\n",
    "max_features = 35"
   ]
  },
  {
   "cell_type": "markdown",
   "id": "ba6cde2b",
   "metadata": {},
   "source": [
    "ANNOY is such an efficient similarity search because it uses _locality-sensitive hashing_. Let's say we want to distinguish supernovae by two features, brightness at peak and characteristic timescale. We can start to distinguish events by picking two events at random, and throwing down a line that separates them in this space. Then, we can assign every event a number based on which side of the line it falls: 0 if it falls to one side and 1 if it falls to the other:  \n",
    "\n",
    "![annoy_1](../assets/ANNOY_1.png)"
   ]
  },
  {
   "cell_type": "markdown",
   "id": "962d5199-d9f4-45a9-b7c1-13a66838f2c5",
   "metadata": {},
   "source": [
    "This isn't super useful for finding meaningful groups in the data, so let's repeat the process. We'll again pick two random points, but this time they'll both be on one side of the first line. We'll assign another binary digit to every event that falls on this side or the other: \n",
    "\n",
    "![annoy_2](../assets/ANNOY_2.png)"
   ]
  },
  {
   "cell_type": "markdown",
   "id": "afbdb3fa-e730-4488-964c-48bffbf556f4",
   "metadata": {},
   "source": [
    "We continue the process several more times, carving up the space with randomly-placed separating lines and adding a binary digit to the event's assigned code:  \n",
    "![](../assets/ANNOY_3.png)"
   ]
  },
  {
   "cell_type": "markdown",
   "id": "76e7edaf-0055-430b-8131-262081fdf22a",
   "metadata": {},
   "source": [
    "If we've done this enough times, we can use the binary code (a _hash code_) of each leaf in our constructed tree _to represent all the events with the same code_. This is a compression technique: the supernovae at each leaf will have slightly different peak brightnesses and timescale. \n",
    "\n",
    "The value in creating this indexed space lies in fast neighbor searches: instead of measuring the distance between a queried supernova and every reference supernova, we can calculate how the queried supernova would traverse this indexed space and pull _n_ events at the same leaf:\n",
    "\n",
    "![](../assets/ANNOY_4.png)"
   ]
  },
  {
   "cell_type": "markdown",
   "id": "50b1d5a8-20a4-45d1-ae25-099e1be1ef30",
   "metadata": {},
   "source": [
    "This ends of being _significantly_ faster than traditional nearest-neighbors approaches, though slightly less accurate. You can also imagine repeating this process several times and taking nearest neighbors from several different randomly-constructed indexed spaces: "
   ]
  },
  {
   "cell_type": "markdown",
   "id": "d4638f2b-7b69-4d3a-bf61-a7a7fff594d5",
   "metadata": {},
   "source": [
    "![](../assets/ANNOY_5.png)"
   ]
  },
  {
   "cell_type": "markdown",
   "id": "7c2fc4a0-6a79-4a44-931d-6c51c4ea9509",
   "metadata": {},
   "source": [
    "For more than two parameters, ANNOY calculates the dot product between two randomly-selected vectors and a separating hyperplane between them. If the dot product is negative, the vector is on one side, if it's positive, it's on the other. The rest of the story is the same.\n",
    "\n",
    "![](../assets/ANNOY_6.png)"
   ]
  },
  {
   "cell_type": "markdown",
   "id": "4c4ca94a-5e92-439b-905c-e0e04901103a",
   "metadata": {},
   "source": [
    "Now let's dig into the code. First, we have to get ANNOY to build up the indexed space of supernova features for many reference events. We input the features we want to index and the data. "
   ]
  },
  {
   "cell_type": "code",
   "execution_count": 5,
   "id": "2af01605",
   "metadata": {},
   "outputs": [
    {
     "name": "stdout",
     "output_type": "stream",
     "text": [
      "Loading previously saved ANNOY index\n",
      "CPU times: user 4.71 s, sys: 373 ms, total: 5.09 s\n",
      "Wall time: 5.1 s\n"
     ]
    }
   ],
   "source": [
    "%%time\n",
    "build_indexed_sample(fn='../data/loci_df_271688objects_cut_stars_and_gal_plane.csv', lc_features=lc_features, host_features=[], pca=False, save=True)"
   ]
  },
  {
   "cell_type": "markdown",
   "id": "f3ec6164-48bc-4f42-a2a7-574c30dc72e7",
   "metadata": {},
   "source": [
    "To make this process a little faster, we can instead reduce the number of features we want to index by running principal component analysis on the raw data. By default, this compresses the space down to 60 parameters that are linear combinations of the light curve + host features. With the fiducial host + lc features chosen here, 60 PCs retains 98% of the original data variance."
   ]
  },
  {
   "cell_type": "code",
   "execution_count": 6,
   "id": "4111d554",
   "metadata": {},
   "outputs": [
    {
     "name": "stdout",
     "output_type": "stream",
     "text": [
      "Loading previously saved ANNOY index\n",
      "CPU times: user 5.7 s, sys: 1.2 s, total: 6.9 s\n",
      "Wall time: 784 ms\n"
     ]
    }
   ],
   "source": [
    "%%time\n",
    "# Load the spec & phot dataset_bank used for train/test (before upsampling w/ SMOTE)\n",
    "# All real events\n",
    "\n",
    "build_indexed_sample(fn='../data/dataset_bank_orig_5472objs.csv.gz', lc_features=lc_features, host_features=host_features, pca=True, save=True)"
   ]
  },
  {
   "cell_type": "markdown",
   "id": "1e87ae06",
   "metadata": {},
   "source": [
    "Now we run our main function, `LAISS`. There are a few different inputs to the function: \n",
    "* `l_or_ztfid_ref`: The ANTARES or ZTF name for the transient to query. By default, the photometry is retrieved as the first step in the pipeline.\n",
    "* `lc_features`: The light curve features used in the similarity search. \n",
    "* `host_features`: The host-galaxy features used in the similarity search.\n",
    "* `n`: The number of neighbors to retrieve using ANNOY.\n",
    "* `use_lc_for_ann_only_bool`: Only uses photometry for the similarity search. This could easily be removed!\n",
    "* `use_ysepz_phot_snana_file`: Instead of retrieving photometry from the ANTARES website, it can be supplied manually in the `timeseries` folder. \n",
    "* `show_lightcurves_grid` and `show_hosts_grid`: Shows the neighbors matched to the queried supernova. \n",
    "* `run_AD_model`: Additionally runs the random forest classifier to determine an anomaly score of the event at each observation. This requires both light curve and galaxy features to be calculated!\n",
    "* `savetables`: Saves the intermediate data from the run.\n",
    "* `savefigs`: Saves the generated figures. \n",
    "*  `ad_params`: The parameters of the specific anomaly detection classifier to load (these will always stay the same, unless we re-train the classifier). "
   ]
  },
  {
   "cell_type": "code",
   "execution_count": 8,
   "id": "fe500955",
   "metadata": {},
   "outputs": [
    {
     "name": "stdout",
     "output_type": "stream",
     "text": [
      "Running LAISS...\n",
      "ZTF21aaublej is in dataset_bank\n",
      "trained_PCA_feat_arr\n",
      "(5472, 120)\n",
      "locus_feat_arr\n",
      "(120,)\n",
      "Loading previously saved ANNOY LC+HOST PCA=60 index\n",
      "./data/dataset_bank_orig_5472objs_pcaTrue_hostTrue_annoy_index.ann\n",
      "\t\t\t\t\t   ZTFID IAU_NAME SPEC Z\n",
      "REF. : https://alerce.online/object/ZTF21aaublej 2021ixf SN Ia 0.041\n",
      "ANN=1: https://alerce.online/object/ZTF21abbkefe 2021mid SN Ia, 0.041542\n",
      "ANN=2: https://alerce.online/object/ZTF21aafgljq 2021ars SN Ia, 0.05\n",
      "ANN=3: https://alerce.online/object/ZTF20abqaqgv 2020qqn SN Ia, 0.045\n",
      "ANN=4: https://alerce.online/object/ZTF21absvlrr 2021vtq SN Ia, 0.0208\n",
      "ANN=5: https://alerce.online/object/ZTF20acucbek 2020abcl SN Ia, 0.03889\n",
      "ANN=6: https://alerce.online/object/ZTF20aczgoml 2020adis SN Ia-91T-like, 0.0453189984\n",
      "ANN=7: https://alerce.online/object/ZTF21abrxoir 2021vju SN Ia, 0.026657\n",
      "ANN=8: https://alerce.online/object/ZTF21abqsysj 2021vpv SN Ia-91T-like, 0.04\n",
      "\n",
      "ANN elapsed_time = 0.004 s\n",
      "\n",
      "total elapsed_time = 7.354 s\n",
      "\n",
      "\n",
      "Running AD Model!...\n",
      "Needs re-extraction for full timeseries.\n",
      "Checking if made before...\n",
      "ZTF21aaublej is already made. Continue!\n",
      "\n",
      "HOST : http://ps1images.stsci.edu/cgi-bin/ps1cutouts?pos=262.604645+37.008991&filter=color\n",
      "\n",
      "Prediction doesn't exceed anom_threshold of 50% for ZTF21aaublej.\n",
      "max_anom_score 39.0\n",
      "num_anom_epochs 0\n"
     ]
    },
    {
     "name": "stderr",
     "output_type": "stream",
     "text": [
      "[Parallel(n_jobs=12)]: Using backend ThreadingBackend with 12 concurrent workers.\n",
      "[Parallel(n_jobs=12)]: Done  26 tasks      | elapsed:    0.0s\n",
      "[Parallel(n_jobs=12)]: Done 100 out of 100 | elapsed:    0.0s finished\n"
     ]
    },
    {
     "name": "stdout",
     "output_type": "stream",
     "text": [
      "https://alerce.online/object/ZTF21aaublej\n"
     ]
    },
    {
     "data": {
      "image/png": "[encoded data removed]",
      "text/plain": [
       "<Figure size 504x720 with 2 Axes>"
      ]
     },
     "metadata": {
      "needs_background": "light"
     },
     "output_type": "display_data"
    }
   ],
   "source": [
    "LAISS(l_or_ztfid_ref=\"ZTF21aaublej\",  # ZTF21aaublej\n",
    "      lc_features=lc_features,\n",
    "      host_features=host_features,\n",
    "      n=8,\n",
    "      use_lc_for_ann_only_bool=False, # currently doesn't work with YSE_snana_format or ANT IDs \n",
    "      use_ysepz_phot_snana_file=False,\n",
    "      show_lightcurves_grid=False,\n",
    "      show_hosts_grid=False,\n",
    "      run_AD_model=True, #needs host feats for AD model!\n",
    "      savetables=False,\n",
    "      savefigs=False, \n",
    "     ad_params={'n_estimators':n_estimators, 'max_depth':max_depth, 'random_state':random_state, 'max_features':max_features})"
   ]
  },
  {
   "cell_type": "markdown",
   "id": "1508f690-2d2f-4a7b-8384-6d29dac47f5b",
   "metadata": {},
   "source": [
    "Though LAISS is fast and runs in real-time, it tends to pick out long-lived transients because it cannot run if any of the selected features are missing. This is a limitation! The main questions that we hope to address through this hack are: \n",
    "\n",
    "1. *How well does LAISS do at finding relevant/unusual supernovae before peak brightness?* The earlier we find an unusual event, the more time we have to follow it up with complementary observing resources. \n",
    "2. *How can we change the architecture to improve its ability to pick out strange supernovae earlier?* Should a sub-set of existing features be used, or would a more flexible light curve and host galaxy encoder work better? \n",
    "\n",
    "That's all for now!"
   ]
  }
 ],
 "metadata": {
  "kernelspec": {
   "display_name": "laiss",
   "language": "python",
   "name": "laiss"
  },
  "language_info": {
   "codemirror_mode": {
    "name": "ipython",
    "version": 3
   },
   "file_extension": ".py",
   "mimetype": "text/x-python",
   "name": "python",
   "nbconvert_exporter": "python",
   "pygments_lexer": "ipython3",
   "version": "3.10.0"
  }
 },
 "nbformat": 4,
 "nbformat_minor": 5
}
